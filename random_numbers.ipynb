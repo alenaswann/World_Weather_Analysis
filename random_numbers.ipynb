{
 "cells": [
  {
   "cell_type": "code",
   "execution_count": 1,
   "id": "72344977",
   "metadata": {},
   "outputs": [],
   "source": [
    "# Import the random module.\n",
    "import random"
   ]
  },
  {
   "cell_type": "code",
   "execution_count": 3,
   "id": "4c7ef157",
   "metadata": {},
   "outputs": [
    {
     "data": {
      "text/plain": [
       "86"
      ]
     },
     "execution_count": 3,
     "metadata": {},
     "output_type": "execute_result"
    }
   ],
   "source": [
    "random.randint(-90, 90)"
   ]
  },
  {
   "cell_type": "code",
   "execution_count": 4,
   "id": "bb8a9a19",
   "metadata": {},
   "outputs": [
    {
     "data": {
      "text/plain": [
       "0.8793425959468671"
      ]
     },
     "execution_count": 4,
     "metadata": {},
     "output_type": "execute_result"
    }
   ],
   "source": [
    "random.random()"
   ]
  },
  {
   "cell_type": "code",
   "execution_count": 5,
   "id": "53a63389",
   "metadata": {},
   "outputs": [
    {
     "data": {
      "text/plain": [
       "-52.7580275777742"
      ]
     },
     "execution_count": 5,
     "metadata": {},
     "output_type": "execute_result"
    }
   ],
   "source": [
    "random_number = random.randint(-90, 89) + random.random()\n",
    "random_number"
   ]
  },
  {
   "cell_type": "code",
   "execution_count": 7,
   "id": "e3e043e3",
   "metadata": {},
   "outputs": [
    {
     "data": {
      "text/plain": [
       "[0.4713847686201029,\n",
       " 22.15204620249601,\n",
       " 24.93575245166486,\n",
       " 64.30832165756158,\n",
       " -27.7475915909697,\n",
       " 10.905802155004015,\n",
       " -56.373434372718066,\n",
       " -18.329094547222173,\n",
       " -6.13052236291389,\n",
       " 72.60718052082682]"
      ]
     },
     "execution_count": 7,
     "metadata": {},
     "output_type": "execute_result"
    }
   ],
   "source": [
    "x = 1\n",
    "latitudes = []\n",
    "while x < 11:\n",
    "    random_lat = random.randint(-90, 89) + random.random()\n",
    "    latitudes.append(random_lat)\n",
    "    x += 1\n",
    "latitudes"
   ]
  },
  {
   "cell_type": "code",
   "execution_count": 8,
   "id": "391325a0",
   "metadata": {},
   "outputs": [
    {
     "data": {
      "text/plain": [
       "-40"
      ]
     },
     "execution_count": 8,
     "metadata": {},
     "output_type": "execute_result"
    }
   ],
   "source": [
    "random.randrange(-90, 90, step=1)"
   ]
  },
  {
   "cell_type": "code",
   "execution_count": 9,
   "id": "17d42e0a",
   "metadata": {},
   "outputs": [
    {
     "data": {
      "text/plain": [
       "-51"
      ]
     },
     "execution_count": 9,
     "metadata": {},
     "output_type": "execute_result"
    }
   ],
   "source": [
    "random.randrange(-90, 90, step=3)"
   ]
  },
  {
   "cell_type": "code",
   "execution_count": 10,
   "id": "acffc537",
   "metadata": {},
   "outputs": [
    {
     "data": {
      "text/plain": [
       "49.47326402059258"
      ]
     },
     "execution_count": 10,
     "metadata": {},
     "output_type": "execute_result"
    }
   ],
   "source": [
    "random.uniform(-90, 90)"
   ]
  },
  {
   "cell_type": "code",
   "execution_count": 11,
   "id": "756bcac6",
   "metadata": {},
   "outputs": [],
   "source": [
    "# Import the NumPy module.\n",
    "import numpy as np"
   ]
  },
  {
   "cell_type": "code",
   "execution_count": 12,
   "id": "7e283ca8",
   "metadata": {},
   "outputs": [
    {
     "data": {
      "text/plain": [
       "52.3001243975188"
      ]
     },
     "execution_count": 12,
     "metadata": {},
     "output_type": "execute_result"
    }
   ],
   "source": [
    "np.random.uniform(-90.000, 90.000)"
   ]
  },
  {
   "cell_type": "code",
   "execution_count": 13,
   "id": "3ce4d472",
   "metadata": {},
   "outputs": [
    {
     "data": {
      "text/plain": [
       "array([-1.16519286e+01,  6.09163515e+01,  1.18708388e+01, -7.20294837e+01,\n",
       "        6.30762587e+01,  5.93067960e+01, -6.92398780e+01, -6.94019477e-02,\n",
       "        3.82326605e+01,  5.53369325e+01,  4.31115627e+01, -5.39355291e+01,\n",
       "        1.06787049e+01, -6.14159926e+01, -1.01725282e+01,  6.51743171e+01,\n",
       "        4.55392953e+01,  1.21352972e+01,  7.99096753e-01, -4.58373357e+01,\n",
       "       -1.83266459e+01, -4.99952795e+01, -3.86547125e+01,  7.63371272e+01,\n",
       "        6.06195586e+01,  8.46010975e+01, -2.82002700e+01,  8.90448099e+01,\n",
       "       -7.52714343e+01,  6.74220341e+01, -8.75611240e+01,  2.92656399e+01,\n",
       "       -3.28744017e+01, -8.33530993e-01, -4.02309455e+01,  3.97647091e+01,\n",
       "       -4.97468821e+01,  8.94560574e+01,  7.77949623e+01, -2.47287742e+01,\n",
       "       -5.80600144e+01,  6.44408830e+01, -1.11802956e+01,  7.09172320e+01,\n",
       "       -5.42407031e+01,  8.15628953e+00, -7.80397322e+01,  8.20717250e+01,\n",
       "        7.38853952e+01, -5.48748719e+01])"
      ]
     },
     "execution_count": 13,
     "metadata": {},
     "output_type": "execute_result"
    }
   ],
   "source": [
    "np.random.uniform(-90.000, 90.000, size=50)"
   ]
  },
  {
   "cell_type": "code",
   "execution_count": 14,
   "id": "ff90070e",
   "metadata": {},
   "outputs": [],
   "source": [
    "# Import timeit\n",
    "import timeit"
   ]
  },
  {
   "cell_type": "code",
   "execution_count": 16,
   "id": "50499bb3",
   "metadata": {},
   "outputs": [
    {
     "name": "stdout",
     "output_type": "stream",
     "text": [
      "15.3 µs ± 159 ns per loop (mean ± std. dev. of 7 runs, 100000 loops each)\n"
     ]
    }
   ],
   "source": [
    "%timeit np.random.uniform(-90.000, 90.000, size=1500)"
   ]
  },
  {
   "cell_type": "code",
   "execution_count": 17,
   "id": "53367350",
   "metadata": {},
   "outputs": [
    {
     "name": "stdout",
     "output_type": "stream",
     "text": [
      "1.84 ms ± 11.3 µs per loop (mean ± std. dev. of 7 runs, 1000 loops each)\n"
     ]
    }
   ],
   "source": [
    "def latitudes(size):\n",
    "    latitudes = []\n",
    "    x = 0\n",
    "    while x < (size):\n",
    "        random_lat = random.randint(-90, 90) + random.random()\n",
    "        latitudes.append(random_lat)\n",
    "        x += 1\n",
    "    return latitudes\n",
    "# Call the function with 1500.\n",
    "%timeit latitudes(1500)"
   ]
  },
  {
   "cell_type": "code",
   "execution_count": 20,
   "id": "817ea6bc",
   "metadata": {},
   "outputs": [
    {
     "name": "stdout",
     "output_type": "stream",
     "text": [
      "1.97 ms ± 197 µs per loop (mean ± std. dev. of 7 runs, 1000 loops each)\n"
     ]
    }
   ],
   "source": [
    "def latitudes2(size):\n",
    "    latitudes2 = []\n",
    "    x=0\n",
    "    for x in range(size):\n",
    "        random_lat = random.randint(-90, 90) + random.random()\n",
    "        latitudes2.append(random_lat)\n",
    "        x += 1\n",
    "# Call the function with 1500.\n",
    "%timeit latitudes2(1500)"
   ]
  },
  {
   "cell_type": "code",
   "execution_count": null,
   "id": "df6553d6",
   "metadata": {},
   "outputs": [],
   "source": []
  },
  {
   "cell_type": "code",
   "execution_count": null,
   "id": "40de656f",
   "metadata": {},
   "outputs": [],
   "source": []
  }
 ],
 "metadata": {
  "kernelspec": {
   "display_name": "PythonData",
   "language": "python",
   "name": "pythondata"
  },
  "language_info": {
   "codemirror_mode": {
    "name": "ipython",
    "version": 3
   },
   "file_extension": ".py",
   "mimetype": "text/x-python",
   "name": "python",
   "nbconvert_exporter": "python",
   "pygments_lexer": "ipython3",
   "version": "3.7.10"
  }
 },
 "nbformat": 4,
 "nbformat_minor": 5
}
